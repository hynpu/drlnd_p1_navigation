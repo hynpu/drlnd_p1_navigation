{
 "cells": [
  {
   "cell_type": "markdown",
   "id": "d3ddefe0-74a8-4a7e-bd28-f2fa19dd53a2",
   "metadata": {},
   "source": [
    "## Import libraries and modules"
   ]
  },
  {
   "cell_type": "code",
   "execution_count": 1,
   "id": "4f9e8e9d-d564-4846-8523-12f67e789d83",
   "metadata": {},
   "outputs": [],
   "source": [
    "from unityagents import UnityEnvironment\n",
    "from collections import deque\n",
    "import random\n",
    "import torch\n",
    "import matplotlib.pyplot as plt\n",
    "import numpy as np\n",
    "%matplotlib inline"
   ]
  },
  {
   "cell_type": "code",
   "execution_count": 2,
   "id": "371c85b8-a5e1-4b4d-a325-883c88065ae8",
   "metadata": {},
   "outputs": [],
   "source": [
    "from dqnAgent import Agent # due to some reason, have to run this in a separate cell to avoid kernel restart"
   ]
  },
  {
   "cell_type": "markdown",
   "id": "2b68c331-4fe8-4e6b-8cd3-ba89e32d42da",
   "metadata": {},
   "source": [
    "## Create the Unity env\n",
    "Initialize the environment in the code cell below."
   ]
  },
  {
   "cell_type": "code",
   "execution_count": 3,
   "id": "2580072d-4dd3-4ab6-8e0d-18a7e5edc6b5",
   "metadata": {},
   "outputs": [
    {
     "name": "stderr",
     "output_type": "stream",
     "text": [
      "INFO:unityagents:\n",
      "'Academy' started successfully!\n",
      "Unity Academy name: Academy\n",
      "        Number of Brains: 1\n",
      "        Number of External Brains : 1\n",
      "        Lesson number : 0\n",
      "        Reset Parameters :\n",
      "\t\t\n",
      "Unity brain name: BananaBrain\n",
      "        Number of Visual Observations (per agent): 0\n",
      "        Vector Observation space type: continuous\n",
      "        Vector Observation space size (per agent): 37\n",
      "        Number of stacked Vector Observation: 1\n",
      "        Vector Action space type: discrete\n",
      "        Vector Action space size (per agent): 4\n",
      "        Vector Action descriptions: , , , \n"
     ]
    }
   ],
   "source": [
    "env = UnityEnvironment(file_name=\"Banana\")\n",
    "brain_name = env.brain_names[0]\n",
    "brain = env.brains[brain_name]\n",
    "\n",
    "env_info = env.reset(train_mode=True)[brain_name]\n",
    "action_size = brain.vector_action_space_size\n",
    "state = env_info.vector_observations[0]\n",
    "state_size = len(state)"
   ]
  },
  {
   "cell_type": "markdown",
   "id": "0e93126e-e1cf-4e18-a1f9-0f56271885cd",
   "metadata": {},
   "source": [
    "## Define the agent\n",
    "Set the training episodes, the maximum horizons in each episode, and run the agent."
   ]
  },
  {
   "cell_type": "code",
   "execution_count": 4,
   "id": "c87905d0-2d64-4041-9cfc-4227a8f4ca90",
   "metadata": {},
   "outputs": [],
   "source": [
    "def dqn(agent, n_episodes=4000, max_t=1000, eps_start=1.0, eps_end=0.01, eps_decay=0.999, train=True):\n",
    "    \"\"\"Deep Q-Learning.\n",
    "    \n",
    "    Args\n",
    "        n_episodes (int): maximum number of training episodes\n",
    "        max_t (int): maximum number of timesteps per episode\n",
    "        eps_start (float): starting value of epsilon, for epsilon-greedy action selection\n",
    "        eps_end (float): minimum value of epsilon\n",
    "        eps_decay (float): multiplicative factor (per episode) for decreasing epsilon\n",
    "        train (bool): flag deciding if the agent will train or just play through the episode\n",
    "    \"\"\"\n",
    "    scores = []                        # list containing scores from each episode\n",
    "    scores_window = deque(maxlen=100)  # last 100 scores\n",
    "    eps = eps_start                    # initialize epsilon\n",
    "    for i_episode in range(1, n_episodes+1):\n",
    "        env_info = env.reset(train_mode=train)[brain_name]\n",
    "        state = env_info.vector_observations[0]\n",
    "        score = 0\n",
    "        for t in range(max_t):\n",
    "            action = agent.act(state, eps if train else 0.0)\n",
    "            env_info = env.step(action)[brain_name]\n",
    "            next_state = env_info.vector_observations[0]   # get the next state\n",
    "            reward = env_info.rewards[0]                   # get the reward\n",
    "            done = env_info.local_done[0]                  # see if episode has finished\n",
    "            if train:\n",
    "                agent.step(state, action, reward, next_state, done)\n",
    "            score += reward                                # update the score\n",
    "            state = next_state                             # roll over the state to next time step\n",
    "            if done:                                       # exit loop if episode finished\n",
    "                break\n",
    "        scores_window.append(score)       # save most recent score\n",
    "        scores.append(score)              # save most recent score\n",
    "        eps = max(eps_end, eps_decay*eps) # decrease epsilon\n",
    "        print('\\rEpisode {}\\tAverage Score: {:.2f}'.format(i_episode, np.mean(scores_window)), end=\"\")\n",
    "        if i_episode % 100 == 0:\n",
    "            print('\\rEpisode {}\\tAverage Score: {:.2f}'.format(i_episode, np.mean(scores_window)))\n",
    "        if np.mean(scores_window)>=13.0 and train:\n",
    "            print('\\nEnvironment solved in {:d} episodes!\\tAverage Score: {:.2f}'.format(i_episode-100, np.mean(scores_window)))\n",
    "            torch.save(agent.qnetwork_local.state_dict(), 'checkpoint_dqn.pth')\n",
    "            break\n",
    "    return scores"
   ]
  },
  {
   "cell_type": "markdown",
   "id": "1596ffdc-e3ab-4afb-b36c-56cd3d35fb20",
   "metadata": {},
   "source": [
    "## Train the agent and plot scores"
   ]
  },
  {
   "cell_type": "code",
   "execution_count": 5,
   "id": "a15e4314-61e7-4875-a526-8bc17402ea18",
   "metadata": {},
   "outputs": [
    {
     "name": "stdout",
     "output_type": "stream",
     "text": [
      "Episode 100\tAverage Score: 0.19\n",
      "Episode 200\tAverage Score: 0.76\n",
      "Episode 300\tAverage Score: 1.43\n",
      "Episode 400\tAverage Score: 2.44\n",
      "Episode 500\tAverage Score: 3.60\n",
      "Episode 600\tAverage Score: 4.22\n",
      "Episode 700\tAverage Score: 5.46\n",
      "Episode 800\tAverage Score: 6.64\n",
      "Episode 900\tAverage Score: 7.21\n",
      "Episode 1000\tAverage Score: 7.43\n",
      "Episode 1100\tAverage Score: 8.41\n",
      "Episode 1200\tAverage Score: 9.20\n",
      "Episode 1300\tAverage Score: 10.19\n",
      "Episode 1400\tAverage Score: 10.74\n",
      "Episode 1500\tAverage Score: 11.54\n",
      "Episode 1600\tAverage Score: 11.04\n",
      "Episode 1700\tAverage Score: 12.27\n",
      "Episode 1800\tAverage Score: 12.17\n",
      "Episode 1900\tAverage Score: 11.55\n",
      "Episode 2000\tAverage Score: 12.37\n",
      "Episode 2100\tAverage Score: 12.93\n",
      "Episode 2102\tAverage Score: 13.06\n",
      "Environment solved in 2002 episodes!\tAverage Score: 13.06\n"
     ]
    }
   ],
   "source": [
    "agent = Agent(state_size=state_size, action_size=action_size, seed=0)\n",
    "scores = dqn(agent)"
   ]
  },
  {
   "cell_type": "code",
   "execution_count": 6,
   "id": "0676c8c0-1ae5-413f-a119-b8345d44784d",
   "metadata": {},
   "outputs": [
    {
     "data": {
      "image/png": "[encoded data removed]",
      "text/plain": [
       "<Figure size 432x288 with 1 Axes>"
      ]
     },
     "metadata": {
      "needs_background": "light"
     },
     "output_type": "display_data"
    }
   ],
   "source": [
    "# plot training scores\n",
    "fig = plt.figure()\n",
    "ax = fig.add_subplot(1,1,1)\n",
    "plt.plot(np.arange(len(scores)), scores)\n",
    "plt.ylabel('Score in each episode')\n",
    "plt.xlabel('Episode iteration')\n",
    "plt.show()"
   ]
  },
  {
   "cell_type": "markdown",
   "id": "35e0f391-c7ba-4a23-9c32-2a6947eae2d9",
   "metadata": {},
   "source": [
    "## Watch the agent\n",
    "In the next code cell, you will load the trained weights from file to watch a smart agent!"
   ]
  },
  {
   "cell_type": "code",
   "execution_count": 7,
   "id": "b5bd800d-6871-4d47-a0be-7ac30499035c",
   "metadata": {},
   "outputs": [
    {
     "name": "stdout",
     "output_type": "stream",
     "text": [
      "Episode 2\tAverage Score: 16.00"
     ]
    }
   ],
   "source": [
    "agent = Agent(state_size=state_size, action_size=action_size, seed=0, filename='model.pth')\n",
    "scores = dqn(agent, n_episodes=2, train=False)"
   ]
  },
  {
   "cell_type": "markdown",
   "id": "2d31f37f-5733-4c68-ac04-df55871ec9eb",
   "metadata": {},
   "source": [
    "## Close the environment"
   ]
  },
  {
   "cell_type": "code",
   "execution_count": 8,
   "id": "507d3b88-fb58-452d-8816-1b9cf30b424a",
   "metadata": {},
   "outputs": [],
   "source": [
    "env.close()"
   ]
  },
  {
   "cell_type": "markdown",
   "id": "036c9e38-4b9c-4f4b-8b98-ac34604c321e",
   "metadata": {},
   "source": [
    "## Conclusion\n",
    "In this exercise, you have implemented a DQN agent and demonstrated how to use it to solve an OpenAI Gym environment. "
   ]
  }
 ],
 "metadata": {
  "kernelspec": {
   "display_name": "drlnd",
   "language": "python",
   "name": "drlnd"
  },
  "language_info": {
   "codemirror_mode": {
    "name": "ipython",
    "version": 3
   },
   "file_extension": ".py",
   "mimetype": "text/x-python",
   "name": "python",
   "nbconvert_exporter": "python",
   "pygments_lexer": "ipython3",
   "version": "3.6.13"
  },
  "vscode": {
   "interpreter": {
    "hash": "5be7002c89c7476267aa937ed39268d879688b066f94212af1fe606eaddd7a7e"
   }
  }
 },
 "nbformat": 4,
 "nbformat_minor": 5
}
